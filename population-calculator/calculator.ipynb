{
 "cells": [
  {
   "cell_type": "code",
   "execution_count": 1,
   "metadata": {},
   "outputs": [],
   "source": [
    "from utils import estimate_population"
   ]
  },
  {
   "cell_type": "markdown",
   "metadata": {},
   "source": [
    "### NOTE: Only works for England at the moment!"
   ]
  },
  {
   "cell_type": "code",
   "execution_count": 2,
   "metadata": {},
   "outputs": [
    {
     "name": "stdout",
     "output_type": "stream",
     "text": [
      "Using the following geometry:\n",
      " ,id,time,geometry\n",
      "3,fid--455672dd_192c31dfc7a_-7ffc,900,\"MULTIPOLYGON (((-1.5594 53.7969, -1.5584 53.7963, -1.5578 53.796, -1.5573 53.7956, -1.5564 53.795, -1.5554 53.7945, -1.5547 53.7942, -1.5523 53.7939, -1.5523 53.7939, -1.5521 53.7938, -1.5502 53.7933, -1.5493 53.7927, -1.5481 53.7927, -1.5462 53.7921, -1.546 53.7921, -1.5432 53.7934, -1.5427 53.7938, -1.5401 53.7948, -1.5375 53.7956, -1.5371 53.7958, -1.5359 53.7963, -1.534 53.7969, -1.5332 53.7974, -1.5336 53.7977, -1.5338 53.7992, -1.5338 53.7993, -1.534 53.7996, -1.5349 53.8005, -1.5352 53.801, -1.5362 53.8016, -1.5369 53.8028, -1.5369 53.8029, -1.5371 53.8031, -1.5383 53.8039, -1.5393 53.8046, -1.5398 53.8048, -1.5401 53.8051, -1.5411 53.8058, -1.5432 53.806, -1.5437 53.8061, -1.5462 53.806, -1.5471 53.8059, -1.5493 53.8064, -1.5495 53.8063, -1.5523 53.8056, -1.5542 53.8046, -1.5554 53.8039, -1.5582 53.8029, -1.5584 53.8028, -1.5585 53.8028, -1.5587 53.8027, -1.5608 53.801, -1.5613 53.7993, -1.5614 53.7992, -1.5614 53.7975, -1.5613 53.7974, -1.5594 53.7969)))\"\n",
      "\n",
      "9162\n"
     ]
    }
   ],
   "source": [
    "estimate = estimate_population(\"../report-site/src/_data/geojson/leeds_20240918_1615_real.json\", where={'time':'900'}, return_frame=False)\n",
    "print(estimate)"
   ]
  }
 ],
 "metadata": {
  "kernelspec": {
   "display_name": "bus-tracking-JZQiYmLK",
   "language": "python",
   "name": "python3"
  },
  "language_info": {
   "codemirror_mode": {
    "name": "ipython",
    "version": 3
   },
   "file_extension": ".py",
   "mimetype": "text/x-python",
   "name": "python",
   "nbconvert_exporter": "python",
   "pygments_lexer": "ipython3",
   "version": "3.12.7"
  }
 },
 "nbformat": 4,
 "nbformat_minor": 2
}
