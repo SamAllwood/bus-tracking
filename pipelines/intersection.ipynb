{
 "cells": [
  {
   "cell_type": "code",
   "execution_count": 4,
   "metadata": {},
   "outputs": [],
   "source": [
    "from utils import *\n",
    "from gtfs_realtime_utils import *\n",
    "import shapely"
   ]
  },
  {
   "cell_type": "code",
   "execution_count": null,
   "metadata": {},
   "outputs": [],
   "source": [
    "DATADIR = ROOT / \"data/geojson/north_west/real\"\n",
    "fnames = os.listdir(DATADIR)\n",
    "# gdfs = [gpd.read_file(DATADIR / f) for f in fnames]\n",
    "# gdfs"
   ]
  },
  {
   "cell_type": "code",
   "execution_count": null,
   "metadata": {},
   "outputs": [],
   "source": [
    "valid_geometries = []\n",
    "for f in fnames:\n",
    "    gdf = gpd.read_file(DATADIR / f)\n",
    "    if gdf.is_valid[0] == True:\n",
    "        valid_geometry = gdf['geometry']\n",
    "    else:\n",
    "        valid_geometry = shapely.make_valid(gdf['geometry'])\n",
    "        valid_geometry = valid_geometry.set_crs('EPSG:4326')\n",
    "        # print(valid_geometry.crs)\n",
    "    valid_geometries.append(valid_geometry)\n",
    "valid_geometries"
   ]
  },
  {
   "cell_type": "code",
   "execution_count": 10,
   "metadata": {},
   "outputs": [],
   "source": [
    "result = valid_geometries[0].intersection(valid_geometries[1]).intersection(valid_geometries[2]).intersection(valid_geometries[3]).intersection(valid_geometries[4])\n",
    "result = result.explode()"
   ]
  },
  {
   "cell_type": "code",
   "execution_count": 11,
   "metadata": {},
   "outputs": [],
   "source": [
    "result.to_file(DATADIR / \"20240916_17:00:00_intersection.geojson\", driver='GeoJSON')"
   ]
  },
  {
   "cell_type": "code",
   "execution_count": null,
   "metadata": {},
   "outputs": [],
   "source": [
    "gpd.GeoSeries(shapely.Point((-2.981029, 53.40592))).to_file(DATADIR / 'origin.geojson', driver='GeoJSON')"
   ]
  }
 ],
 "metadata": {
  "kernelspec": {
   "display_name": "bus-tracking-JZQiYmLK",
   "language": "python",
   "name": "python3"
  },
  "language_info": {
   "codemirror_mode": {
    "name": "ipython",
    "version": 3
   },
   "file_extension": ".py",
   "mimetype": "text/x-python",
   "name": "python",
   "nbconvert_exporter": "python",
   "pygments_lexer": "ipython3",
   "version": "3.12.7"
  }
 },
 "nbformat": 4,
 "nbformat_minor": 2
}
